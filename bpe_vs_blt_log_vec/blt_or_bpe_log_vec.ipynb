{
 "cells": [
  {
   "cell_type": "markdown",
   "metadata": {},
   "source": [
    "# Introduction\n",
    "\n",
    "https://www.because-security.com/blog/advanced-practitioners-guide-to-byte-level-transformation-dec-2024 "
   ]
  },
  {
   "cell_type": "markdown",
   "metadata": {},
   "source": [
    "### Load the config\n",
    "\n",
    "The `config.json` is in the .gitignore file. It's not in the repo.\n",
    "\n",
    "The structure is as follows:\n",
    "```json\n",
    "{\n",
    "    \"huggingface_token\": \"hf...\",\n",
    "    \"data_path\": \"~/source/datasets/log2ml/lab_logs_blindtest_activity_sysmon_1000samples_july_28_2024_filtered_with_vectors_clean.parquet\",\n",
    "    \"blt_dir\": \"~/source/projects/infosec_ml_rnd/bpe_vs_blt_log_vec/blt\"\n",
    "}\n",
    "```\n",
    "\n",
    "You probably need to change the paths to your own. And add the OpenAI token if you want to use OpenAI embeddings."
   ]
  },
  {
   "cell_type": "code",
   "execution_count": 1,
   "metadata": {},
   "outputs": [],
   "source": [
    "import importlib\n",
    "import blt_wrapper.blt_wrapper  # Import the full module first\n",
    "\n",
    "# Reload the module to refresh it after code changes\n",
    "importlib.reload(blt_wrapper.blt_wrapper)\n",
    "\n",
    "# Re-import the function (Python has persitent imports anyway, especially in Jupyter)\n",
    "from blt_wrapper.blt_wrapper import load_config\n",
    "hf_token, blt_dir = load_config(\"config.json\")"
   ]
  },
  {
   "cell_type": "markdown",
   "metadata": {},
   "source": [
    "## Hands on Byte Level Transformers"
   ]
  },
  {
   "cell_type": "markdown",
   "metadata": {},
   "source": [
    "### BLT = Byte Level Transformer\n",
    "\n",
    "The following parts work with the new research code from Meta. It's verbose code, but that's in the nature of ML if you look behind the scenes.\n",
    "\n"
   ]
  },
  {
   "cell_type": "markdown",
   "metadata": {},
   "source": [
    "You need your Huggingface token, and you need it now."
   ]
  },
  {
   "cell_type": "code",
   "execution_count": 2,
   "metadata": {
    "ExecuteTime": {
     "end_time": "2024-12-18T17:50:38.726946Z",
     "start_time": "2024-12-18T17:50:38.571809Z"
    }
   },
   "outputs": [
    {
     "name": "stdout",
     "output_type": "stream",
     "text": [
      "Successfully downloaded tokenizer to: tokenizers\\tokenizer.model\n",
      "Loading from blt_dir: C:\\Users\\mariu\\source\\projects\\infosec_ml_rnd\\bpe_vs_blt_log_vec\\blt\n",
      "BLT imports successful!\n"
     ]
    }
   ],
   "source": [
    "import importlib\n",
    "import blt_wrapper.blt_wrapper  \n",
    "\n",
    "# Same pattern of refreshing\n",
    "importlib.reload(blt_wrapper.blt_wrapper)\n",
    "from blt_wrapper.blt_wrapper import dl_blt_tokenizer\n",
    "from blt_wrapper.blt_wrapper import load_blt_lib\n",
    "\n",
    "\n",
    "# pass the loaded HF token\n",
    "dl_blt_tokenizer(hf_token)\n",
    "load_blt_lib(blt_dir)"
   ]
  },
  {
   "cell_type": "code",
   "execution_count": 3,
   "metadata": {},
   "outputs": [
    {
     "name": "stdout",
     "output_type": "stream",
     "text": [
      "Tokenizers initialized successfully!\n",
      "\n",
      "Test results:\n",
      "Original text: Hello, this is a test.\n",
      "BPE tokens: [1, 15043, 29892, 445, 338, 263, 1243, 29889, 2]\n",
      "BLT tokens: [1, 3, 76, 105, 112, 112, 115, 3, 48, 3, 36, 120, 108, 109, 119, 3, 36, 109, 119, 3, 36, 101, 3, 36, 120, 105, 119, 120, 3, 50, 2]\n",
      "Sentence length:    22\n",
      "BPE tokens created: 9\n",
      "BLT tokens created: 31\n"
     ]
    }
   ],
   "source": [
    "import importlib\n",
    "import blt_wrapper.blt_wrapper  \n",
    "\n",
    "# Same pattern of refreshing\n",
    "importlib.reload(blt_wrapper.blt_wrapper)\n",
    "from blt_wrapper.blt_wrapper import init_and_test_tokenizers\n",
    "\n",
    "init_and_test_tokenizers()\n"
   ]
  },
  {
   "cell_type": "markdown",
   "metadata": {},
   "source": [
    "Observation: BLT tokens here (this is the first step) are longer."
   ]
  },
  {
   "cell_type": "markdown",
   "metadata": {},
   "source": [
    "### What about the Patches?\n",
    "\n",
    "There are\n",
    "\n",
    "- Entropy based patches\n",
    "- BPE based patches\n",
    "- Space"
   ]
  },
  {
   "cell_type": "code",
   "execution_count": 4,
   "metadata": {
    "ExecuteTime": {
     "end_time": "2024-12-18T14:27:57.342996Z",
     "start_time": "2024-12-18T14:27:40.540307Z"
    }
   },
   "outputs": [
    {
     "name": "stdout",
     "output_type": "stream",
     "text": [
      "\n",
      "Byte Patcher initialized successfully!\n",
      "\n",
      "Byte Patcher test results:\n",
      "Original data length: 71 bytes\n",
      "Batch shape: torch.Size([1, 71])\n",
      "Number of patches: 9\n",
      "Patch 0: Length=8, Data=b'Hello Wo'\n",
      "Patch 1: Length=8, Data=b'rld! Thi'\n",
      "Patch 2: Length=8, Data=b's is som'\n",
      "Patch 3: Length=8, Data=b'e test b'\n",
      "Patch 4: Length=8, Data=b'inary da'\n",
      "Patch 5: Length=8, Data=b'ta with '\n",
      "Patch 6: Length=8, Data=b'varying '\n",
      "Patch 7: Length=8, Data=b'entropy '\n",
      "Patch 8: Length=7, Data=b'levels.'\n"
     ]
    },
    {
     "data": {
      "text/plain": [
       "(<bytelatent.data.patcher.Patcher at 0x1d3a1cdf730>,\n",
       " tensor([[8, 8, 8, 8, 8, 8, 8, 8, 7]]))"
      ]
     },
     "execution_count": 4,
     "metadata": {},
     "output_type": "execute_result"
    }
   ],
   "source": [
    "import importlib\n",
    "import blt_wrapper.blt_wrapper  \n",
    "\n",
    "# Same pattern of refreshing\n",
    "importlib.reload(blt_wrapper.blt_wrapper)\n",
    "from blt_wrapper.blt_wrapper import init_and_test_byte_patcher\n",
    "\n",
    "init_and_test_byte_patcher()\n"
   ]
  },
  {
   "cell_type": "code",
   "execution_count": 5,
   "metadata": {
    "ExecuteTime": {
     "end_time": "2024-12-18T14:28:25.059134Z",
     "start_time": "2024-12-18T14:28:25.028860Z"
    }
   },
   "outputs": [
    {
     "name": "stdout",
     "output_type": "stream",
     "text": [
      "\n",
      "BPE Patcher initialized successfully!\n",
      "\n",
      "BPE Patcher test results:\n",
      "Original text: Hello, this is a test for BPE patching!\n",
      "BLT tokens: [1, 3, 76, 105, 112, 112, 115, 3, 48, 3, 36, 120, 108, 109, 119, 3, 36, 109, 119, 3, 36, 101, 3, 36, 120, 105, 119, 120, 3, 36, 106, 115, 118, 3, 36, 70, 3, 84, 73, 3, 36, 116, 101, 120, 103, 108, 3, 109, 114, 107, 3, 37, 2]\n",
      "Patch lengths: [[1, 1, 6, 2, 6, 4, 3, 6, 5, 3, 3, 7, 4, 2]]\n",
      "Patch 0: Length=1, Tokens=[1]\n",
      "Patch 1: Length=1, Tokens=[3]\n",
      "Patch 2: Length=6, Tokens=[76, 105, 112, 112, 115, 3]\n",
      "Patch 3: Length=2, Tokens=[48, 3]\n",
      "Patch 4: Length=6, Tokens=[36, 120, 108, 109, 119, 3]\n",
      "Patch 5: Length=4, Tokens=[36, 109, 119, 3]\n",
      "Patch 6: Length=3, Tokens=[36, 101, 3]\n",
      "Patch 7: Length=6, Tokens=[36, 120, 105, 119, 120, 3]\n",
      "Patch 8: Length=5, Tokens=[36, 106, 115, 118, 3]\n",
      "Patch 9: Length=3, Tokens=[36, 70, 3]\n",
      "Patch 10: Length=3, Tokens=[84, 73, 3]\n",
      "Patch 11: Length=7, Tokens=[36, 116, 101, 120, 103, 108, 3]\n",
      "Patch 12: Length=4, Tokens=[109, 114, 107, 3]\n",
      "Patch 13: Length=2, Tokens=[37, 2]\n"
     ]
    },
    {
     "data": {
      "text/plain": [
       "(<bytelatent.data.patcher.Patcher at 0x1d3a1ed95a0>,\n",
       " <bytelatent.tokenizers.blt_tokenizer.BltTokenizer at 0x1d3a1ea3880>,\n",
       " tensor([[1, 1, 6, 2, 6, 4, 3, 6, 5, 3, 3, 7, 4, 2]]),\n",
       " [1,\n",
       "  3,\n",
       "  76,\n",
       "  105,\n",
       "  112,\n",
       "  112,\n",
       "  115,\n",
       "  3,\n",
       "  48,\n",
       "  3,\n",
       "  36,\n",
       "  120,\n",
       "  108,\n",
       "  109,\n",
       "  119,\n",
       "  3,\n",
       "  36,\n",
       "  109,\n",
       "  119,\n",
       "  3,\n",
       "  36,\n",
       "  101,\n",
       "  3,\n",
       "  36,\n",
       "  120,\n",
       "  105,\n",
       "  119,\n",
       "  120,\n",
       "  3,\n",
       "  36,\n",
       "  106,\n",
       "  115,\n",
       "  118,\n",
       "  3,\n",
       "  36,\n",
       "  70,\n",
       "  3,\n",
       "  84,\n",
       "  73,\n",
       "  3,\n",
       "  36,\n",
       "  116,\n",
       "  101,\n",
       "  120,\n",
       "  103,\n",
       "  108,\n",
       "  3,\n",
       "  109,\n",
       "  114,\n",
       "  107,\n",
       "  3,\n",
       "  37,\n",
       "  2])"
      ]
     },
     "execution_count": 5,
     "metadata": {},
     "output_type": "execute_result"
    }
   ],
   "source": [
    "import importlib\n",
    "import blt_wrapper.blt_wrapper  \n",
    "\n",
    "# Same pattern of refreshing\n",
    "importlib.reload(blt_wrapper.blt_wrapper)\n",
    "from blt_wrapper.blt_wrapper import init_and_test_bpe_patcher\n",
    "\n",
    "init_and_test_bpe_patcher()\n"
   ]
  },
  {
   "cell_type": "markdown",
   "metadata": {},
   "source": [
    "There are differences. Longer sequences (first step), which has an implication of Attention for the models."
   ]
  },
  {
   "cell_type": "markdown",
   "metadata": {},
   "source": [
    "## From BLT Patches to BLT Transformer Embeddings"
   ]
  },
  {
   "cell_type": "code",
   "execution_count": 6,
   "metadata": {
    "ExecuteTime": {
     "end_time": "2024-12-18T15:02:14.240150Z",
     "start_time": "2024-12-18T15:02:06.936435Z"
    }
   },
   "outputs": [
    {
     "name": "stdout",
     "output_type": "stream",
     "text": [
      "Initializing model with:\n",
      "- Model dimension: 1024\n",
      "- Number of heads: 16\n",
      "Creating model...\n",
      "Model initialized successfully on cuda\n",
      "\n",
      "=== Analyzing Model Hidden States ===\n",
      "Input text: 'Hello, this is a test.'\n",
      "\n",
      "Base output shape: torch.Size([1, 31, 1024])\n",
      "Final output shape: torch.Size([1, 31, 1024])\n",
      "• Batch size: 1\n",
      "• Sequence length: 31\n",
      "• Hidden dimension: 1024\n",
      "• Device: cuda:0\n",
      "• Dtype: torch.float16\n",
      "\n",
      "Statistics:\n",
      "• Mean: -0.000\n",
      "• Std: 0.335\n",
      "• Min: -1.280\n",
      "• Max: 1.358\n",
      "\n",
      "Value Distribution:\n",
      "• 0th percentile: -1.280\n",
      "• 25th percentile: -0.227\n",
      "• 50th percentile: -0.000\n",
      "• 75th percentile: 0.226\n",
      "• 100th percentile: 1.358\n",
      "Initializing model with:\n",
      "- Model dimension: 1024\n",
      "- Number of heads: 16\n",
      "Creating model...\n",
      "Model initialized successfully on cuda\n",
      "\n",
      "=== BLT Embedding Analysis ===\n",
      "\n",
      "Input Text: \"Hello, this is a test.\"\n",
      "\n",
      "=== TOKEN Embeddings ===\n",
      "Shape: torch.Size([1, 31, 1024])\n",
      "• Batch size: 1\n",
      "• Sequence length: 31\n",
      "• Embedding dimension: 1024\n",
      "• Parameters: 31,744\n",
      "• Share of total: 33.33%\n",
      "\n",
      "Statistics:\n",
      "• Mean: -0.007\n",
      "• Std: 0.575\n",
      "• Min: -2.273\n",
      "• Max: 2.375\n",
      "\n",
      "=== POSITION Embeddings ===\n",
      "Shape: torch.Size([1, 31, 1024])\n",
      "• Batch size: 1\n",
      "• Sequence length: 31\n",
      "• Embedding dimension: 1024\n",
      "• Parameters: 31,744\n",
      "• Share of total: 33.33%\n",
      "\n",
      "Statistics:\n",
      "• Mean: -0.007\n",
      "• Std: 0.575\n",
      "• Min: -2.273\n",
      "• Max: 2.375\n",
      "\n",
      "=== FINAL Embeddings ===\n",
      "Shape: torch.Size([1, 31, 1024])\n",
      "• Batch size: 1\n",
      "• Sequence length: 31\n",
      "• Embedding dimension: 1024\n",
      "• Parameters: 31,744\n",
      "• Share of total: 33.33%\n",
      "\n",
      "Statistics:\n",
      "• Mean: -0.007\n",
      "• Std: 0.575\n",
      "• Min: -2.273\n",
      "• Max: 2.375\n",
      "\n",
      "=== Overall Statistics ===\n",
      "Total parameters across all embeddings: 95,232\n"
     ]
    }
   ],
   "source": [
    "import importlib\n",
    "import blt_wrapper.blt_wrapper  \n",
    "\n",
    "# Same pattern of refreshing\n",
    "importlib.reload(blt_wrapper.blt_wrapper)\n",
    "from blt_wrapper.blt_wrapper import create_blt_model, get_model_hidden_states, make_blt_embeddings\n",
    "from pathlib import Path\n",
    "\n",
    "# Create model and test embeddings\n",
    "tokenizer_path = Path(\"tokenizers/tokenizer.model\")\n",
    "model = create_blt_model()\n",
    "test_text = \"Hello, this is a test.\"\n",
    "\n",
    "hidden_states = get_model_hidden_states(test_text, model, tokenizer_path, verbose=True)\n",
    "embeddings = make_blt_embeddings()"
   ]
  },
  {
   "cell_type": "code",
   "execution_count": 7,
   "metadata": {
    "ExecuteTime": {
     "end_time": "2024-12-18T15:03:12.350116Z",
     "start_time": "2024-12-18T15:03:12.328910Z"
    }
   },
   "outputs": [
    {
     "name": "stdout",
     "output_type": "stream",
     "text": [
      "token\n",
      "position\n",
      "final\n"
     ]
    }
   ],
   "source": [
    "for emb in embeddings:\n",
    "    print(emb)"
   ]
  },
  {
   "cell_type": "code",
   "execution_count": 8,
   "metadata": {
    "ExecuteTime": {
     "end_time": "2024-12-18T15:07:29.443140Z",
     "start_time": "2024-12-18T15:07:29.420966Z"
    }
   },
   "outputs": [
    {
     "name": "stdout",
     "output_type": "stream",
     "text": [
      "torch.Size([1, 31, 1024])\n"
     ]
    }
   ],
   "source": [
    "print(hidden_states.shape)"
   ]
  },
  {
   "cell_type": "code",
   "execution_count": 38,
   "metadata": {},
   "outputs": [
    {
     "name": "stdout",
     "output_type": "stream",
     "text": [
      "Initializing model with:\n",
      "- Model dimension: 1024\n",
      "- Number of heads: 16\n",
      "Creating model...\n",
      "Model initialized successfully on cuda\n",
      "\n",
      "=== BLT Embedding Analysis ===\n",
      "\n",
      "Input Text: \"Hello, this is a test.\"\n",
      "\n",
      "=== TOKEN Embeddings ===\n",
      "Shape: torch.Size([1, 31, 1024])\n",
      "• Batch size: 1\n",
      "• Sequence length: 31\n",
      "• Embedding dimension: 1024\n",
      "• Parameters: 31,744\n",
      "• Share of total: 33.33%\n",
      "\n",
      "Statistics:\n",
      "• Mean: 0.012\n",
      "• Std: 0.576\n",
      "• Min: -2.258\n",
      "• Max: 2.223\n",
      "\n",
      "=== POSITION Embeddings ===\n",
      "Shape: torch.Size([1, 31, 1024])\n",
      "• Batch size: 1\n",
      "• Sequence length: 31\n",
      "• Embedding dimension: 1024\n",
      "• Parameters: 31,744\n",
      "• Share of total: 33.33%\n",
      "\n",
      "Statistics:\n",
      "• Mean: 0.012\n",
      "• Std: 0.576\n",
      "• Min: -2.258\n",
      "• Max: 2.223\n",
      "\n",
      "=== FINAL Embeddings ===\n",
      "Shape: torch.Size([1, 31, 1024])\n",
      "• Batch size: 1\n",
      "• Sequence length: 31\n",
      "• Embedding dimension: 1024\n",
      "• Parameters: 31,744\n",
      "• Share of total: 33.33%\n",
      "\n",
      "Statistics:\n",
      "• Mean: 0.012\n",
      "• Std: 0.576\n",
      "• Min: -2.258\n",
      "• Max: 2.223\n",
      "\n",
      "=== Overall Statistics ===\n",
      "Total parameters across all embeddings: 95,232\n",
      "Execution time: 1.95 seconds\n"
     ]
    }
   ],
   "source": [
    "import importlib\n",
    "import blt_wrapper.blt_wrapper  \n",
    "from transformers import AutoTokenizer\n",
    "import time\n",
    "\n",
    "# Same pattern of refreshing\n",
    "importlib.reload(blt_wrapper.blt_wrapper)\n",
    "from blt_wrapper.blt_wrapper import make_blt_embeddings\n",
    "\n",
    "# Measure execution time\n",
    "start_time = time.time()\n",
    "blt_embedding = make_blt_embeddings()\n",
    "end_time = time.time()\n",
    "\n",
    "execution_time = end_time - start_time\n",
    "print(f\"Execution time: {execution_time:.2f} seconds\")"
   ]
  },
  {
   "cell_type": "code",
   "execution_count": 13,
   "metadata": {},
   "outputs": [
    {
     "name": "stdout",
     "output_type": "stream",
     "text": [
      "Hello, this is a test.\n",
      "{'token': tensor([[[-0.0997, -0.6650, -1.4316,  ..., -0.5781, -0.4795,  0.1780],\n",
      "         [-0.1432, -0.3591,  0.1537,  ..., -0.6191,  0.0714,  0.3655],\n",
      "         [-0.1155, -0.2183,  0.1476,  ..., -0.2012, -0.3140, -0.0785],\n",
      "         ...,\n",
      "         [ 0.7427, -0.9854,  0.4656,  ..., -0.1980,  0.5532, -0.2932],\n",
      "         [ 0.0682, -0.7256, -0.5703,  ...,  0.0202,  0.5557,  0.4434],\n",
      "         [-0.7593, -0.2017,  0.3518,  ..., -0.2189,  0.9170, -0.0031]]],\n",
      "       device='cuda:0'), 'position': tensor([[[-0.0997, -0.6650, -1.4316,  ..., -0.5781, -0.4795,  0.1780],\n",
      "         [-0.1432, -0.3591,  0.1537,  ..., -0.6191,  0.0714,  0.3655],\n",
      "         [-0.1155, -0.2183,  0.1476,  ..., -0.2012, -0.3140, -0.0785],\n",
      "         ...,\n",
      "         [ 0.7427, -0.9854,  0.4656,  ..., -0.1980,  0.5532, -0.2932],\n",
      "         [ 0.0682, -0.7256, -0.5703,  ...,  0.0202,  0.5557,  0.4434],\n",
      "         [-0.7593, -0.2017,  0.3518,  ..., -0.2189,  0.9170, -0.0031]]],\n",
      "       device='cuda:0'), 'final': tensor([[[-0.0997, -0.6650, -1.4316,  ..., -0.5781, -0.4795,  0.1780],\n",
      "         [-0.1432, -0.3591,  0.1537,  ..., -0.6191,  0.0714,  0.3655],\n",
      "         [-0.1155, -0.2183,  0.1476,  ..., -0.2012, -0.3140, -0.0785],\n",
      "         ...,\n",
      "         [ 0.7427, -0.9854,  0.4656,  ..., -0.1980,  0.5532, -0.2932],\n",
      "         [ 0.0682, -0.7256, -0.5703,  ...,  0.0202,  0.5557,  0.4434],\n",
      "         [-0.7593, -0.2017,  0.3518,  ..., -0.2189,  0.9170, -0.0031]]],\n",
      "       device='cuda:0')}\n"
     ]
    }
   ],
   "source": [
    "print(test_text)\n",
    "print(blt_embedding)"
   ]
  },
  {
   "cell_type": "markdown",
   "metadata": {},
   "source": [
    "## Linformer Embeddings with Byte-Pair-Encoding"
   ]
  },
  {
   "cell_type": "code",
   "execution_count": 39,
   "metadata": {},
   "outputs": [
    {
     "name": "stdout",
     "output_type": "stream",
     "text": [
      "\n",
      "Initializing Linformer model...\n",
      "Using GPU: NVIDIA GeForce GTX 1650\n",
      "Execution time: 3.18 seconds\n"
     ]
    }
   ],
   "source": [
    "import importlib\n",
    "import blt_wrapper.blt_wrapper  \n",
    "import time\n",
    "\n",
    "# Same pattern of refreshing\n",
    "importlib.reload(blt_wrapper.blt_wrapper)\n",
    "from blt_wrapper.blt_wrapper import get_linformer_embedding\n",
    "from pathlib import Path\n",
    "\n",
    "test_text = \"Hello, this is a test.\"\n",
    "\n",
    "# Measure execution time\n",
    "start_time = time.time()\n",
    "linformer_embedding = get_linformer_embedding(test_text)\n",
    "end_time = time.time()\n",
    "\n",
    "print(f\"Execution time: {end_time - start_time:.2f} seconds\")"
   ]
  },
  {
   "cell_type": "code",
   "execution_count": 15,
   "metadata": {},
   "outputs": [
    {
     "name": "stdout",
     "output_type": "stream",
     "text": [
      "Hello, this is a test.\n",
      "(1024,)\n",
      "[ 8.106748  -4.744223  -2.4028153 ... -4.2454567 -7.1888247 15.412267 ]\n"
     ]
    }
   ],
   "source": [
    "print(test_text)\n",
    "print(linformer_embedding.shape)\n",
    "print(linformer_embedding)"
   ]
  },
  {
   "cell_type": "markdown",
   "metadata": {},
   "source": [
    "## BLT and BPE on Sysmon telemetry\n",
    "\n",
    "*Sysmon telemetry* here refers to observed data, which has been generated in a lab. The dataset contains no malicious data, no personal information, and no sensitive data. It's from a lab environment, which I hosted for my thesis. No employer data, no client data, no nothing :) "
   ]
  },
  {
   "cell_type": "code",
   "execution_count": 17,
   "metadata": {
    "ExecuteTime": {
     "end_time": "2024-12-17T16:16:02.533169Z",
     "start_time": "2024-12-17T16:16:02.512626Z"
    }
   },
   "outputs": [
    {
     "data": {
      "text/html": [
       "<div>\n",
       "<style scoped>\n",
       "    .dataframe tbody tr th:only-of-type {\n",
       "        vertical-align: middle;\n",
       "    }\n",
       "\n",
       "    .dataframe tbody tr th {\n",
       "        vertical-align: top;\n",
       "    }\n",
       "\n",
       "    .dataframe thead th {\n",
       "        text-align: right;\n",
       "    }\n",
       "</style>\n",
       "<table border=\"1\" class=\"dataframe\">\n",
       "  <thead>\n",
       "    <tr style=\"text-align: right;\">\n",
       "      <th></th>\n",
       "      <th>filtered_message</th>\n",
       "    </tr>\n",
       "  </thead>\n",
       "  <tbody>\n",
       "    <tr>\n",
       "      <th>0</th>\n",
       "      <td>Network connection detected: \\nRuleName: -\\nPr...</td>\n",
       "    </tr>\n",
       "    <tr>\n",
       "      <th>1</th>\n",
       "      <td>Network connection detected: \\nRuleName: -\\nPr...</td>\n",
       "    </tr>\n",
       "    <tr>\n",
       "      <th>2</th>\n",
       "      <td>Process accessed: \\nRuleName: -\\nSourceProcess...</td>\n",
       "    </tr>\n",
       "    <tr>\n",
       "      <th>3</th>\n",
       "      <td>Process accessed: \\nRuleName: -\\nSourceProcess...</td>\n",
       "    </tr>\n",
       "    <tr>\n",
       "      <th>4</th>\n",
       "      <td>Process accessed: \\nRuleName: -\\nSourceProcess...</td>\n",
       "    </tr>\n",
       "    <tr>\n",
       "      <th>...</th>\n",
       "      <td>...</td>\n",
       "    </tr>\n",
       "    <tr>\n",
       "      <th>13450</th>\n",
       "      <td>Process accessed: \\nRuleName: -\\nSourceProcess...</td>\n",
       "    </tr>\n",
       "    <tr>\n",
       "      <th>13451</th>\n",
       "      <td>Process accessed: \\nRuleName: -\\nSourceProcess...</td>\n",
       "    </tr>\n",
       "    <tr>\n",
       "      <th>13452</th>\n",
       "      <td>Process accessed: \\nRuleName: -\\nSourceProcess...</td>\n",
       "    </tr>\n",
       "    <tr>\n",
       "      <th>13453</th>\n",
       "      <td>Process accessed: \\nRuleName: -\\nSourceProcess...</td>\n",
       "    </tr>\n",
       "    <tr>\n",
       "      <th>13454</th>\n",
       "      <td>Process Create: \\nRuleName: -\\nProcessId: 1074...</td>\n",
       "    </tr>\n",
       "  </tbody>\n",
       "</table>\n",
       "<p>13455 rows × 1 columns</p>\n",
       "</div>"
      ],
      "text/plain": [
       "                                        filtered_message\n",
       "0      Network connection detected: \\nRuleName: -\\nPr...\n",
       "1      Network connection detected: \\nRuleName: -\\nPr...\n",
       "2      Process accessed: \\nRuleName: -\\nSourceProcess...\n",
       "3      Process accessed: \\nRuleName: -\\nSourceProcess...\n",
       "4      Process accessed: \\nRuleName: -\\nSourceProcess...\n",
       "...                                                  ...\n",
       "13450  Process accessed: \\nRuleName: -\\nSourceProcess...\n",
       "13451  Process accessed: \\nRuleName: -\\nSourceProcess...\n",
       "13452  Process accessed: \\nRuleName: -\\nSourceProcess...\n",
       "13453  Process accessed: \\nRuleName: -\\nSourceProcess...\n",
       "13454  Process Create: \\nRuleName: -\\nProcessId: 1074...\n",
       "\n",
       "[13455 rows x 1 columns]"
      ]
     },
     "execution_count": 17,
     "metadata": {},
     "output_type": "execute_result"
    }
   ],
   "source": [
    "import importlib\n",
    "import data_manager.data_manager\n",
    "\n",
    "# Same pattern of refreshing\n",
    "importlib.reload(data_manager.data_manager)\n",
    "from data_manager.data_manager import load_filtered_messages\n",
    "\n",
    "messages_df = load_filtered_messages()\n",
    "messages_df"
   ]
  },
  {
   "cell_type": "markdown",
   "metadata": {},
   "source": [
    "The creation of Embeddings can be a time-consuming / computation-heavy process.\n",
    "\n",
    "We want to do this one time only. In the past, I relied on parquet files, but this has been complex at times due to sparse high-dimensionality of the embeddings of the dataset. *DuckDB* is a new alternative. Parquet isn't perfect for vector data."
   ]
  },
  {
   "cell_type": "code",
   "execution_count": 18,
   "metadata": {},
   "outputs": [
    {
     "name": "stdout",
     "output_type": "stream",
     "text": [
      "NumPy version: 2.1.3\n",
      "Pandas version: 2.2.3\n",
      "DuckDB version: 1.1.3\n"
     ]
    }
   ],
   "source": [
    "# First we load the data from DuckDB\n",
    "# The code stets the version of the underlying ML stack\n",
    "\n",
    "import numpy as np\n",
    "import pandas as pd\n",
    "import duckdb\n",
    "\n",
    "print(\"NumPy version:\", np.__version__)\n",
    "print(\"Pandas version:\", pd.__version__)\n",
    "print(\"DuckDB version:\", duckdb.__version__ if hasattr(duckdb, '__version__') else 'Unknown')"
   ]
  },
  {
   "cell_type": "markdown",
   "metadata": {},
   "source": [
    "The Silhouette Score can be calculated using scikit-learn's KMeans clustering."
   ]
  },
  {
   "cell_type": "code",
   "execution_count": 25,
   "metadata": {},
   "outputs": [
    {
     "name": "stdout",
     "output_type": "stream",
     "text": [
      "Sample sizes:\n",
      "BPE shape: (5, 1024)\n",
      "BLT shape: (5, 1024)\n",
      "\n",
      "BPE stats:\n",
      "Contains NaN: False\n",
      "Contains inf: False\n",
      "Mean: 0.019019752757958485\n",
      "Std: 7.108029685085775\n",
      "\n",
      "BLT stats:\n",
      "Contains NaN: False\n",
      "Contains inf: False\n",
      "Mean: -0.005047651217319071\n",
      "Std: 0.11099512598886176\n",
      "\n",
      "Vector norms:\n",
      "BPE norms: [ 11.49492319 252.31391489 267.29594135 245.86735398 250.98376757]\n",
      "BLT norms: [3.45404094 3.73169559 3.20764043 3.6244555  3.73186895]\n"
     ]
    }
   ],
   "source": [
    "import duckdb\n",
    "import numpy as np\n",
    "\n",
    "# Create a new connection\n",
    "con = duckdb.connect('embeddings_1k.duckdb')\n",
    "\n",
    "# Diagnostic code\n",
    "query = \"\"\"\n",
    "SELECT\n",
    "    embedding_blt::DOUBLE[] as blt_embedding,\n",
    "    embedding_bpe::DOUBLE[] as bpe_embedding\n",
    "FROM message_embeddings\n",
    "LIMIT 5\n",
    "\"\"\"\n",
    "sample_data = con.execute(query).fetchdf()\n",
    "\n",
    "# Check shapes and basic statistics\n",
    "print(\"Sample sizes:\")\n",
    "print(\"BPE shape:\", np.stack(sample_data['bpe_embedding'].values).shape)\n",
    "print(\"BLT shape:\", np.stack(sample_data['blt_embedding'].values).shape)\n",
    "\n",
    "# Check for NaN or inf values\n",
    "bpe_vectors = np.stack(sample_data['bpe_embedding'].values)\n",
    "blt_vectors = np.stack(sample_data['blt_embedding'].values)\n",
    "\n",
    "print(\"\\nBPE stats:\")\n",
    "print(\"Contains NaN:\", np.isnan(bpe_vectors).any())\n",
    "print(\"Contains inf:\", np.isinf(bpe_vectors).any())\n",
    "print(\"Mean:\", np.mean(bpe_vectors))\n",
    "print(\"Std:\", np.std(bpe_vectors))\n",
    "\n",
    "print(\"\\nBLT stats:\")\n",
    "print(\"Contains NaN:\", np.isnan(blt_vectors).any())\n",
    "print(\"Contains inf:\", np.isinf(blt_vectors).any())\n",
    "print(\"Mean:\", np.mean(blt_vectors))\n",
    "print(\"Std:\", np.std(blt_vectors))\n",
    "\n",
    "# Check vector norms\n",
    "print(\"\\nVector norms:\")\n",
    "print(\"BPE norms:\", np.linalg.norm(bpe_vectors, axis=1))\n",
    "print(\"BLT norms:\", np.linalg.norm(blt_vectors, axis=1))\n",
    "\n",
    "# Close the connection\n",
    "con.close()"
   ]
  },
  {
   "cell_type": "code",
   "execution_count": 27,
   "metadata": {},
   "outputs": [
    {
     "name": "stdout",
     "output_type": "stream",
     "text": [
      "BPE Vectors:\n",
      "Shape: (3, 1024)\n",
      "Min value: -31.347150802612305\n",
      "Max value: 28.14507484436035\n",
      "Number of zeros: 0\n",
      "Unique values: 3015\n",
      "\n",
      "First few values of first vector: [-0.16955566  0.12091064 -0.19592285  0.72558594 -0.08203125 -0.19604492\n",
      " -0.27075195  0.08026123 -0.01971436 -0.02760315]\n"
     ]
    },
    {
     "data": {
      "image/png": "[encoded data removed]",
      "text/plain": [
       "<Figure size 1200x400 with 2 Axes>"
      ]
     },
     "metadata": {},
     "output_type": "display_data"
    }
   ],
   "source": [
    "import duckdb\n",
    "import numpy as np\n",
    "from sklearn.preprocessing import StandardScaler\n",
    "\n",
    "# Create a new connection\n",
    "con = duckdb.connect('embeddings_1k.duckdb')\n",
    "\n",
    "# Get a sample\n",
    "query = \"\"\"\n",
    "SELECT\n",
    "    embedding_blt::DOUBLE[] as blt_embedding,\n",
    "    embedding_bpe::DOUBLE[] as bpe_embedding\n",
    "FROM message_embeddings\n",
    "LIMIT 3\n",
    "\"\"\"\n",
    "sample_data = con.execute(query).fetchdf()\n",
    "\n",
    "# Convert to arrays\n",
    "bpe_vectors = np.stack(sample_data['bpe_embedding'].values)\n",
    "blt_vectors = np.stack(sample_data['blt_embedding'].values)\n",
    "\n",
    "# Print detailed statistics\n",
    "print(\"BPE Vectors:\")\n",
    "print(\"Shape:\", bpe_vectors.shape)\n",
    "print(\"Min value:\", np.min(bpe_vectors))\n",
    "print(\"Max value:\", np.max(bpe_vectors))\n",
    "print(\"Number of zeros:\", np.sum(bpe_vectors == 0))\n",
    "print(\"Unique values:\", len(np.unique(bpe_vectors)))\n",
    "print(\"\\nFirst few values of first vector:\", bpe_vectors[0][:10])\n",
    "\n",
    "# Try visualizing the distribution\n",
    "plt.figure(figsize=(12, 4))\n",
    "plt.subplot(121)\n",
    "plt.hist(bpe_vectors.flatten(), bins=50)\n",
    "plt.title('BPE Values Distribution')\n",
    "plt.xlabel('Value')\n",
    "plt.ylabel('Count')\n",
    "\n",
    "plt.subplot(122)\n",
    "plt.hist(blt_vectors.flatten(), bins=50)\n",
    "plt.title('BLT Values Distribution')\n",
    "plt.xlabel('Value')\n",
    "plt.ylabel('Count')\n",
    "plt.tight_layout()\n",
    "plt.show()\n",
    "\n",
    "con.close()"
   ]
  },
  {
   "cell_type": "code",
   "execution_count": 29,
   "metadata": {
    "ExecuteTime": {
     "end_time": "2024-12-17T07:36:03.018319Z",
     "start_time": "2024-12-17T07:27:52.889374Z"
    }
   },
   "outputs": [
    {
     "name": "stdout",
     "output_type": "stream",
     "text": [
      "BPE dimensions after PCA: 903\n",
      "BLT dimensions after PCA: 28\n"
     ]
    },
    {
     "data": {
      "image/png": "[encoded data removed]",
      "text/plain": [
       "<Figure size 1000x600 with 1 Axes>"
      ]
     },
     "metadata": {},
     "output_type": "display_data"
    },
    {
     "name": "stdout",
     "output_type": "stream",
     "text": [
      "BPE Best Score: 0.0014 (n_clusters=2)\n",
      "BLT Best Score: 0.6099 (n_clusters=3)\n"
     ]
    }
   ],
   "source": [
    "from sklearn.cluster import KMeans\n",
    "from sklearn.metrics import silhouette_score\n",
    "from sklearn.preprocessing import StandardScaler\n",
    "from sklearn.decomposition import PCA\n",
    "import numpy as np\n",
    "import matplotlib.pyplot as plt\n",
    "import duckdb\n",
    "\n",
    "def calculate_silhouette_scores(con, n_clusters_range=range(2, 6), random_state=42, plot=True):\n",
    "    \"\"\"\n",
    "    Calculate silhouette scores for multiple embedding vectors across different numbers of clusters.\n",
    "    \"\"\"\n",
    "    query = \"\"\"\n",
    "    SELECT\n",
    "        embedding_blt::DOUBLE[] as blt_embedding,\n",
    "        embedding_bpe::DOUBLE[] as bpe_embedding\n",
    "    FROM message_embeddings\n",
    "    \"\"\"\n",
    "    results = con.execute(query).fetchdf()\n",
    "\n",
    "    # Convert to numpy arrays\n",
    "    bpe_vectors = np.stack(results['bpe_embedding'].values)\n",
    "    blt_vectors = np.stack(results['blt_embedding'].values)\n",
    "    \n",
    "    # Standardize and reduce dimensionality\n",
    "    scaler_bpe = StandardScaler()\n",
    "    scaler_blt = StandardScaler()\n",
    "    \n",
    "    bpe_vectors = scaler_bpe.fit_transform(bpe_vectors)\n",
    "    blt_vectors = scaler_blt.fit_transform(blt_vectors)\n",
    "    \n",
    "    # Apply PCA to reduce dimensionality while preserving 95% of variance\n",
    "    pca_bpe = PCA(n_components=0.95, random_state=random_state)\n",
    "    pca_blt = PCA(n_components=0.95, random_state=random_state)\n",
    "    \n",
    "    bpe_vectors = pca_bpe.fit_transform(bpe_vectors)\n",
    "    blt_vectors = pca_blt.fit_transform(blt_vectors)\n",
    "    \n",
    "    print(f\"BPE dimensions after PCA: {bpe_vectors.shape[1]}\")\n",
    "    print(f\"BLT dimensions after PCA: {blt_vectors.shape[1]}\")\n",
    "\n",
    "    vectors_dict = {\n",
    "        'BPE': bpe_vectors,\n",
    "        'BLT': blt_vectors\n",
    "    }\n",
    "\n",
    "    results = {\n",
    "        'scores': {name: [] for name in vectors_dict.keys()},\n",
    "        'best_scores': {}\n",
    "    }\n",
    "\n",
    "    # Calculate scores for each number of clusters\n",
    "    for n_clusters in n_clusters_range:\n",
    "        kmeans = KMeans(n_clusters=n_clusters, random_state=random_state, n_init=10)\n",
    "\n",
    "        for name, vectors in vectors_dict.items():\n",
    "            labels = kmeans.fit_predict(vectors)\n",
    "            score = silhouette_score(vectors, labels)\n",
    "            results['scores'][name].append(score)\n",
    "\n",
    "    # Find best scores\n",
    "    for name in vectors_dict.keys():\n",
    "        scores = results['scores'][name]\n",
    "        best_score = max(scores)\n",
    "        best_n_clusters = n_clusters_range[scores.index(best_score)]\n",
    "        results['best_scores'][name] = {\n",
    "            'score': best_score,\n",
    "            'n_clusters': best_n_clusters\n",
    "        }\n",
    "\n",
    "    # Plot if requested\n",
    "    if plot:\n",
    "        plt.figure(figsize=(10, 6))\n",
    "        for name, scores in results['scores'].items():\n",
    "            plt.plot(list(n_clusters_range), scores, 'o-', label=name)\n",
    "\n",
    "        plt.xlabel('Number of Clusters')\n",
    "        plt.ylabel('Silhouette Score')\n",
    "        plt.title('Silhouette Score vs Number of Clusters')\n",
    "        plt.legend()\n",
    "        plt.grid(True)\n",
    "        plt.show()\n",
    "\n",
    "    return results\n",
    "\n",
    "# Create DuckDB connection\n",
    "con = duckdb.connect('embeddings_1k.duckdb')\n",
    "\n",
    "# Calculate scores\n",
    "results = calculate_silhouette_scores(con)\n",
    "\n",
    "# Print best scores\n",
    "for name, result in results['best_scores'].items():\n",
    "    print(f\"{name} Best Score: {result['score']:.4f} (n_clusters={result['n_clusters']})\")\n",
    "\n",
    "# Close connection\n",
    "con.close()"
   ]
  },
  {
   "cell_type": "markdown",
   "metadata": {},
   "source": [
    "## Cosine Similarity distribution\n",
    "\n",
    "For tasks related to NLP, Cosine Similarity is preferable as a metric over Euclidian distance."
   ]
  },
  {
   "cell_type": "code",
   "execution_count": 31,
   "metadata": {
    "ExecuteTime": {
     "end_time": "2024-12-17T07:38:12.929603Z",
     "start_time": "2024-12-17T07:38:12.876438Z"
    }
   },
   "outputs": [],
   "source": [
    "from tqdm.notebook import tqdm\n",
    "import numpy as np\n",
    "import matplotlib.pyplot as plt\n",
    "from scipy import stats\n",
    "\n",
    "def calculate_similarities(con, embedding_types=['bpe', 'blt'], batch_size=1000):\n",
    "    \"\"\"\n",
    "    Calculate pairwise similarities for multiple embedding vectors from a DuckDB database.\n",
    "    \"\"\"\n",
    "    # Get total row count\n",
    "    count_query = \"SELECT COUNT(*) as cnt FROM message_embeddings\"\n",
    "    total_rows = con.execute(count_query).fetchone()[0]\n",
    "\n",
    "    base_query_template = \"\"\"\n",
    "    WITH numbered_rows AS (\n",
    "        SELECT\n",
    "            ROW_NUMBER() OVER () as row_id,\n",
    "            embedding_{type}::DOUBLE[] as embedding\n",
    "        FROM message_embeddings\n",
    "        LIMIT {limit} OFFSET {offset}\n",
    "    )\n",
    "    SELECT\n",
    "        a.row_id as id1,\n",
    "        b.row_id as id2,\n",
    "        (array_sum(array_multiply(a.embedding, b.embedding)) /\n",
    "        (sqrt(array_sum(array_multiply(a.embedding, a.embedding))) *\n",
    "         sqrt(array_sum(array_multiply(b.embedding, b.embedding))))) as cosine_similarity\n",
    "    FROM numbered_rows a\n",
    "    CROSS JOIN numbered_rows b\n",
    "    WHERE a.row_id < b.row_id\n",
    "    \"\"\"\n",
    "\n",
    "    similarities = {etype: [] for etype in embedding_types}\n",
    "\n",
    "    with tqdm(total=total_rows, desc=\"Processing embeddings\") as pbar:\n",
    "        for offset in range(0, total_rows, batch_size):\n",
    "            for etype in embedding_types:\n",
    "                query = base_query_template.format(\n",
    "                    type=etype,\n",
    "                    limit=batch_size,\n",
    "                    offset=offset\n",
    "                )\n",
    "                result = con.execute(query).fetch_df()\n",
    "                similarities[etype].extend(result['cosine_similarity'].tolist())\n",
    "\n",
    "            pbar.update(batch_size)\n",
    "\n",
    "    return {k: np.array(v) for k, v in similarities.items()}\n",
    "\n",
    "def calculate_distribution_stats(similarities):\n",
    "    \"\"\"\n",
    "    Calculate statistical measures for a similarity distribution.\n",
    "    \"\"\"\n",
    "    kde = stats.gaussian_kde(similarities)\n",
    "    x_eval = np.linspace(similarities.min(), similarities.max(), 100)\n",
    "    kde_values = kde(x_eval)\n",
    "    mode_idx = np.argmax(kde_values)\n",
    "    mode_value = x_eval[mode_idx]\n",
    "\n",
    "    return {\n",
    "        'n_samples': len(similarities),\n",
    "        'mean': np.mean(similarities),\n",
    "        'median': np.median(similarities),\n",
    "        'mode': mode_value,\n",
    "        'std': np.std(similarities),\n",
    "        'percentile_25': np.percentile(similarities, 25),\n",
    "        'percentile_75': np.percentile(similarities, 75),\n",
    "        'kde': kde,\n",
    "        'x_eval': x_eval,\n",
    "        'kde_values': kde_values\n",
    "    }\n",
    "\n",
    "def plot_similarity_distributions(similarities_dict, figsize=(20, 7)):\n",
    "    \"\"\"\n",
    "    Plot similarity distributions with statistics.\n",
    "    \"\"\"\n",
    "    n_plots = len(similarities_dict)\n",
    "    fig, axes = plt.subplots(1, n_plots, figsize=figsize)\n",
    "    if n_plots == 1:\n",
    "        axes = [axes]\n",
    "\n",
    "    stats_dict = {}\n",
    "\n",
    "    for (etype, similarities), ax in zip(similarities_dict.items(), axes):\n",
    "        stats = calculate_distribution_stats(similarities)\n",
    "        stats_dict[etype] = stats\n",
    "\n",
    "        # Plot KDE\n",
    "        ax.plot(stats['x_eval'], stats['kde_values'], \n",
    "                color='blue', alpha=0.5)\n",
    "        ax.fill_between(stats['x_eval'], stats['kde_values'], \n",
    "                       alpha=0.3, color='blue')\n",
    "        \n",
    "        # Add rug plot (small lines at the bottom showing data points)\n",
    "        ax.plot(similarities, np.zeros_like(similarities), '|', \n",
    "                color='red', alpha=0.2, markersize=10)\n",
    "\n",
    "        # Add statistical lines\n",
    "        ax.axvline(x=stats['mode'], color='red', linestyle='--',\n",
    "                  alpha=0.5, label=f'Mode: {stats[\"mode\"]:.3f}')\n",
    "        ax.axvline(x=stats['mean'], color='green', linestyle='--',\n",
    "                  alpha=0.5, label=f'Mean: {stats[\"mean\"]:.3f}')\n",
    "        ax.axvline(x=stats['median'], color='blue', linestyle='--',\n",
    "                  alpha=0.5, label=f'Median: {stats[\"median\"]:.3f}')\n",
    "\n",
    "        ax.set_title(f'{etype.upper()} Embeddings Self-Similarity Distribution')\n",
    "        ax.set_xlabel('Cosine Similarity')\n",
    "        ax.set_ylabel('Density')\n",
    "        ax.legend()\n",
    "        ax.grid(True, alpha=0.3)\n",
    "\n",
    "    plt.tight_layout()\n",
    "    return fig, axes, stats_dict\n",
    "\n",
    "def print_distribution_stats(stats_dict):\n",
    "    \"\"\"\n",
    "    Print statistical measures for all distributions.\n",
    "    \"\"\"\n",
    "    for etype, stats in stats_dict.items():\n",
    "        print(f\"\\n{etype.upper()} Embeddings Distribution Statistics:\")\n",
    "        print(f\"Number of samples: {stats['n_samples']}\")\n",
    "        print(f\"Mean: {stats['mean']:.4f}\")\n",
    "        print(f\"Median: {stats['median']:.4f}\")\n",
    "        print(f\"Mode (KDE peak): {stats['mode']:.4f}\")\n",
    "        print(f\"Standard deviation: {stats['std']:.4f}\")\n",
    "        print(f\"25th percentile: {stats['percentile_25']:.4f}\")\n",
    "        print(f\"75th percentile: {stats['percentile_75']:.4f}\")\n",
    "\n",
    "def analyze_embedding_similarities(con, batch_size=1000):\n",
    "    \"\"\"\n",
    "    Complete analysis pipeline for embedding similarities.\n",
    "    \"\"\"\n",
    "    # Calculate similarities\n",
    "    similarities_dict = calculate_similarities(con, ['bpe', 'blt'], batch_size)\n",
    "\n",
    "    # Plot distributions and calculate statistics\n",
    "    fig, axes, stats_dict = plot_similarity_distributions(similarities_dict)\n",
    "\n",
    "    # Print statistics\n",
    "    print_distribution_stats(stats_dict)\n",
    "\n",
    "    return similarities_dict, fig, axes, stats_dict\n",
    "\n",
    "# Example usage:\n",
    "# con = duckdb.connect('embeddings_1k.duckdb')\n",
    "# similarities_dict, fig, axes, stats_dict = analyze_embedding_similarities(con)\n",
    "# con.close()"
   ]
  },
  {
   "cell_type": "code",
   "execution_count": 37,
   "metadata": {
    "ExecuteTime": {
     "end_time": "2024-12-17T07:55:57.544354Z",
     "start_time": "2024-12-17T07:39:08.821370Z"
    }
   },
   "outputs": [
    {
     "data": {
      "application/vnd.jupyter.widget-view+json": {
       "model_id": "136e3eb10c0944ae9741fd66095eb25e",
       "version_major": 2,
       "version_minor": 0
      },
      "text/plain": [
       "Processing embeddings:   0%|          | 0/12169 [00:00<?, ?it/s]"
      ]
     },
     "metadata": {},
     "output_type": "display_data"
    },
    {
     "name": "stdout",
     "output_type": "stream",
     "text": [
      "\n",
      "BPE Embeddings Distribution Statistics:\n",
      "Number of samples: 6008196\n",
      "Mean: 0.0010\n",
      "Median: 0.0010\n",
      "Mode (KDE peak): 0.0019\n",
      "Standard deviation: 0.0333\n",
      "25th percentile: -0.0214\n",
      "75th percentile: 0.0234\n",
      "\n",
      "BLT Embeddings Distribution Statistics:\n",
      "Number of samples: 6008196\n",
      "Mean: 0.8726\n",
      "Median: 0.9242\n",
      "Mode (KDE peak): 0.9236\n",
      "Standard deviation: 0.2174\n",
      "25th percentile: 0.8861\n",
      "75th percentile: 0.9648\n",
      "\n",
      "Additional analysis for bpe:\n",
      "Interquartile range: 0.0447\n",
      "Range: 0.3487\n",
      "\n",
      "Additional analysis for blt:\n",
      "Interquartile range: 0.0787\n",
      "Range: 1.0803\n"
     ]
    },
    {
     "data": {
      "image/png": "[encoded data removed]",
      "text/plain": [
       "<Figure size 2000x700 with 2 Axes>"
      ]
     },
     "metadata": {},
     "output_type": "display_data"
    }
   ],
   "source": [
    "from tqdm.notebook import tqdm\n",
    "import numpy as np\n",
    "import matplotlib.pyplot as plt\n",
    "from scipy import stats\n",
    "\n",
    "def calculate_similarities(con, embedding_types=['bpe', 'blt'], batch_size=1000):\n",
    "    \"\"\"\n",
    "    Calculate pairwise similarities for multiple embedding vectors from a DuckDB database.\n",
    "    \"\"\"\n",
    "    # Get total row count\n",
    "    count_query = \"SELECT COUNT(*) as cnt FROM message_embeddings\"\n",
    "    total_rows = con.execute(count_query).fetchone()[0]\n",
    "\n",
    "    base_query_template = \"\"\"\n",
    "    WITH numbered_rows AS (\n",
    "        SELECT\n",
    "            ROW_NUMBER() OVER () as row_id,\n",
    "            embedding_{type}::DOUBLE[] as embedding\n",
    "        FROM message_embeddings\n",
    "        LIMIT {limit} OFFSET {offset}\n",
    "    )\n",
    "    SELECT\n",
    "        a.row_id as id1,\n",
    "        b.row_id as id2,\n",
    "        (LIST_DOT_PRODUCT(a.embedding, b.embedding) /\n",
    "        (SQRT(LIST_DOT_PRODUCT(a.embedding, a.embedding)) *\n",
    "         SQRT(LIST_DOT_PRODUCT(b.embedding, b.embedding)))) as cosine_similarity\n",
    "    FROM numbered_rows a\n",
    "    CROSS JOIN numbered_rows b\n",
    "    WHERE a.row_id < b.row_id\n",
    "    \"\"\"\n",
    "\n",
    "    similarities = {etype: [] for etype in embedding_types}\n",
    "\n",
    "    with tqdm(total=total_rows, desc=\"Processing embeddings\") as pbar:\n",
    "        for offset in range(0, total_rows, batch_size):\n",
    "            for etype in embedding_types:\n",
    "                query = base_query_template.format(\n",
    "                    type=etype,\n",
    "                    limit=batch_size,\n",
    "                    offset=offset\n",
    "                )\n",
    "                result = con.execute(query).fetch_df()\n",
    "                similarities[etype].extend(result['cosine_similarity'].tolist())\n",
    "\n",
    "            pbar.update(batch_size)\n",
    "\n",
    "    return {k: np.array(v) for k, v in similarities.items()}\n",
    "\n",
    "def calculate_distribution_stats(similarities):\n",
    "    \"\"\"\n",
    "    Calculate statistical measures for a similarity distribution.\n",
    "    \"\"\"\n",
    "    kde = stats.gaussian_kde(similarities)\n",
    "    x_eval = np.linspace(similarities.min(), similarities.max(), 100)\n",
    "    kde_values = kde(x_eval)\n",
    "    mode_idx = np.argmax(kde_values)\n",
    "    mode_value = x_eval[mode_idx]\n",
    "\n",
    "    return {\n",
    "        'n_samples': len(similarities),\n",
    "        'mean': np.mean(similarities),\n",
    "        'median': np.median(similarities),\n",
    "        'mode': mode_value,\n",
    "        'std': np.std(similarities),\n",
    "        'percentile_25': np.percentile(similarities, 25),\n",
    "        'percentile_75': np.percentile(similarities, 75),\n",
    "        'kde': kde,\n",
    "        'x_eval': x_eval,\n",
    "        'kde_values': kde_values\n",
    "    }\n",
    "\n",
    "def plot_similarity_distributions(similarities_dict, figsize=(20, 7)):\n",
    "    \"\"\"\n",
    "    Plot similarity distributions with statistics.\n",
    "    \"\"\"\n",
    "    n_plots = len(similarities_dict)\n",
    "    fig, axes = plt.subplots(1, n_plots, figsize=figsize)\n",
    "    if n_plots == 1:\n",
    "        axes = [axes]\n",
    "\n",
    "    stats_dict = {}\n",
    "\n",
    "    for (etype, similarities), ax in zip(similarities_dict.items(), axes):\n",
    "        stats = calculate_distribution_stats(similarities)\n",
    "        stats_dict[etype] = stats\n",
    "\n",
    "        # Plot KDE\n",
    "        ax.plot(stats['x_eval'], stats['kde_values'], \n",
    "                color='blue', alpha=0.5)\n",
    "        ax.fill_between(stats['x_eval'], stats['kde_values'], \n",
    "                       alpha=0.3, color='blue')\n",
    "        \n",
    "        # Add rug plot (small lines at the bottom showing data points)\n",
    "        ax.plot(similarities, np.zeros_like(similarities), '|', \n",
    "                color='red', alpha=0.2, markersize=10)\n",
    "\n",
    "        # Add statistical lines\n",
    "        ax.axvline(x=stats['mode'], color='red', linestyle='--',\n",
    "                  alpha=0.5, label=f'Mode: {stats[\"mode\"]:.3f}')\n",
    "        ax.axvline(x=stats['mean'], color='green', linestyle='--',\n",
    "                  alpha=0.5, label=f'Mean: {stats[\"mean\"]:.3f}')\n",
    "        ax.axvline(x=stats['median'], color='blue', linestyle='--',\n",
    "                  alpha=0.5, label=f'Median: {stats[\"median\"]:.3f}')\n",
    "\n",
    "        ax.set_title(f'{etype.upper()} Embeddings Self-Similarity Distribution')\n",
    "        ax.set_xlabel('Cosine Similarity')\n",
    "        ax.set_ylabel('Density')\n",
    "        ax.legend()\n",
    "        ax.grid(True, alpha=0.3)\n",
    "\n",
    "    plt.tight_layout()\n",
    "    return fig, axes, stats_dict\n",
    "\n",
    "def print_distribution_stats(stats_dict):\n",
    "    \"\"\"\n",
    "    Print statistical measures for all distributions.\n",
    "    \"\"\"\n",
    "    for etype, stats in stats_dict.items():\n",
    "        print(f\"\\n{etype.upper()} Embeddings Distribution Statistics:\")\n",
    "        print(f\"Number of samples: {stats['n_samples']}\")\n",
    "        print(f\"Mean: {stats['mean']:.4f}\")\n",
    "        print(f\"Median: {stats['median']:.4f}\")\n",
    "        print(f\"Mode (KDE peak): {stats['mode']:.4f}\")\n",
    "        print(f\"Standard deviation: {stats['std']:.4f}\")\n",
    "        print(f\"25th percentile: {stats['percentile_25']:.4f}\")\n",
    "        print(f\"75th percentile: {stats['percentile_75']:.4f}\")\n",
    "\n",
    "def analyze_embedding_similarities(con, batch_size=1000):\n",
    "    \"\"\"\n",
    "    Complete analysis pipeline for embedding similarities.\n",
    "    \"\"\"\n",
    "    # Calculate similarities\n",
    "    similarities_dict = calculate_similarities(con, ['bpe', 'blt'], batch_size)\n",
    "\n",
    "    # Plot distributions and calculate statistics\n",
    "    fig, axes, stats_dict = plot_similarity_distributions(similarities_dict)\n",
    "\n",
    "    # Print statistics\n",
    "    print_distribution_stats(stats_dict)\n",
    "\n",
    "    return similarities_dict, fig, axes, stats_dict\n",
    "\n",
    "# Create a new connection\n",
    "con = duckdb.connect('embeddings_1k.duckdb')\n",
    "\n",
    "# Analyze embedding similarities with default parameters (BPE and BLT)\n",
    "similarities_dict, fig, axes, stats_dict = analyze_embedding_similarities(\n",
    "    con=con,\n",
    "    batch_size=1000\n",
    ")\n",
    "\n",
    "# The plot will be automatically displayed due to the function\n",
    "# If you want to save the figure, you can do:\n",
    "# fig.savefig('embedding_similarities.png', dpi=300, bbox_inches='tight')\n",
    "\n",
    "# The statistics are already printed by the function, but you can access them directly:\n",
    "# Access specific statistics for each embedding type\n",
    "for etype, stats in stats_dict.items():\n",
    "    print(f\"\\nAdditional analysis for {etype}:\")\n",
    "    print(f\"Interquartile range: {stats['percentile_75'] - stats['percentile_25']:.4f}\")\n",
    "    print(f\"Range: {similarities_dict[etype].max() - similarities_dict[etype].min():.4f}\")\n",
    "\n",
    "# You can also access the raw similarity values if needed:\n",
    "bpe_similarities = similarities_dict['bpe']\n",
    "blt_similarities = similarities_dict['blt']\n",
    "\n",
    "# Close the connection\n",
    "con.close()"
   ]
  },
  {
   "cell_type": "code",
   "execution_count": 40,
   "metadata": {},
   "outputs": [
    {
     "data": {
      "image/png": "[encoded data removed]",
      "text/plain": [
       "<Figure size 1200x600 with 2 Axes>"
      ]
     },
     "metadata": {},
     "output_type": "display_data"
    },
    {
     "name": "stdout",
     "output_type": "stream",
     "text": [
      "\n",
      "BPE Statistics:\n",
      "Original dimensions: 1024\n",
      "Components needed for 80.0% variance: 650\n",
      "Components needed for 90.0% variance: 806\n",
      "Components needed for 95.0% variance: 903\n",
      "Components needed for 99.0% variance: 997\n",
      "\n",
      "BLT Statistics:\n",
      "Original dimensions: 1024\n",
      "Components needed for 80.0% variance: 650\n",
      "Components needed for 90.0% variance: 806\n",
      "Components needed for 95.0% variance: 903\n",
      "Components needed for 99.0% variance: 997\n"
     ]
    }
   ],
   "source": [
    "import numpy as np\n",
    "import matplotlib.pyplot as plt\n",
    "from sklearn.decomposition import PCA\n",
    "import duckdb\n",
    "\n",
    "# Create connection and get embeddings\n",
    "con = duckdb.connect('embeddings_1k.duckdb')\n",
    "\n",
    "# Get embeddings\n",
    "query = \"\"\"\n",
    "SELECT \n",
    "    embedding_bpe::DOUBLE[] as bpe_embedding,\n",
    "    embedding_blt::DOUBLE[] as blt_embedding\n",
    "FROM message_embeddings\n",
    "\"\"\"\n",
    "results = con.execute(query).fetch_df()\n",
    "\n",
    "# Convert to numpy arrays\n",
    "bpe_vectors = np.stack(results['bpe_embedding'].values)\n",
    "blt_vectors = np.stack(results['blt_embedding'].values)\n",
    "\n",
    "# Calculate PCA for both\n",
    "pca_bpe = PCA()\n",
    "pca_blt = PCA()\n",
    "\n",
    "pca_bpe.fit(bpe_vectors)\n",
    "pca_blt.fit(blt_vectors)\n",
    "\n",
    "# Calculate cumulative explained variance\n",
    "cum_var_exp_bpe = np.cumsum(pca_bpe.explained_variance_ratio_)\n",
    "cum_var_exp_blt = np.cumsum(pca_blt.explained_variance_ratio_)\n",
    "\n",
    "# Plot\n",
    "plt.figure(figsize=(12, 6))\n",
    "\n",
    "# Plot cumulative explained variance\n",
    "plt.subplot(1, 2, 1)\n",
    "plt.plot(range(1, len(cum_var_exp_bpe) + 1), cum_var_exp_bpe, 'b-', label='BPE')\n",
    "plt.plot(range(1, len(cum_var_exp_blt) + 1), cum_var_exp_blt, 'r-', label='BLT')\n",
    "plt.xlabel('Number of Components')\n",
    "plt.ylabel('Cumulative Explained Variance Ratio')\n",
    "plt.title('Explained Variance vs. Number of Components')\n",
    "plt.grid(True)\n",
    "plt.legend()\n",
    "\n",
    "# Plot individual explained variance (elbow plot)\n",
    "plt.subplot(1, 2, 2)\n",
    "plt.plot(range(1, 21), pca_bpe.explained_variance_ratio_[:20], 'b-', label='BPE')\n",
    "plt.plot(range(1, 21), pca_blt.explained_variance_ratio_[:20], 'r-', label='BLT')\n",
    "plt.xlabel('Principal Component')\n",
    "plt.ylabel('Explained Variance Ratio')\n",
    "plt.title('Scree Plot (First 20 Components)')\n",
    "plt.grid(True)\n",
    "plt.legend()\n",
    "\n",
    "plt.tight_layout()\n",
    "plt.show()\n",
    "\n",
    "# Print some statistics\n",
    "for name, pca, vectors in [('BPE', pca_bpe, bpe_vectors), ('BLT', pca_blt, blt_vectors)]:\n",
    "    print(f\"\\n{name} Statistics:\")\n",
    "    print(f\"Original dimensions: {vectors.shape[1]}\")\n",
    "    \n",
    "    # Number of components needed for different variance thresholds\n",
    "    for threshold in [0.8, 0.9, 0.95, 0.99]:\n",
    "        n_components = np.argmax(cum_var_exp_bpe >= threshold) + 1\n",
    "        print(f\"Components needed for {threshold*100}% variance: {n_components}\")\n",
    "\n",
    "con.close()"
   ]
  }
 ],
 "metadata": {
  "kernelspec": {
   "display_name": "ble-env",
   "language": "python",
   "name": "python3"
  },
  "language_info": {
   "codemirror_mode": {
    "name": "ipython",
    "version": 3
   },
   "file_extension": ".py",
   "mimetype": "text/x-python",
   "name": "python",
   "nbconvert_exporter": "python",
   "pygments_lexer": "ipython3",
   "version": "3.10.9"
  }
 },
 "nbformat": 4,
 "nbformat_minor": 2
}
